import pandas as pd
import matplotlib.pyplot as plt

# 读取csv文件
df = pd.read_csv('foo11680805817.8544438_yellow1.csv')
title_list = ['reward','wait_time','sum_brake','sum_lenth']
# 重置索引为整数序列
df = df.reset_index()

plt.figure(figsize=(30,10))
for i in range(1,5):
    plt.subplot(1,4,i)
    plt.plot(df.index, df.iloc[:, i])
    window_size = 13
    y_smooth = np.convolve(df.iloc[:, i], np.ones(window_size)/window_size, mode='valid')
    x_smooth = df.index[window_size//2:-(window_size//2)]
    plt.plot(x_smooth,y_smooth,linewidth=5)
    plt.xlabel('Index')
    plt.ylabel('y1')
    plt.title(title_list[i-1])
plt.show()


import pandas as pd
import matplotlib.pyplot as plt

# 读取csv文件
df = pd.read_csv('foo11680807867.7411928yellow3.csv')
title_list = ['reward','wait_time','sum_brake','sum_lenth']
# 重置索引为整数序列
df = df.reset_index()

plt.figure(figsize=(30,10))
for i in range(1,5):
    plt.subplot(1,4,i)
    plt.plot(df.index, df.iloc[:, i])
    window_size = 13
    y_smooth = np.convolve(df.iloc[:, i], np.ones(window_size)/window_size, mode='valid')
    x_smooth = df.index[window_size//2:-(window_size//2)]
    plt.plot(x_smooth,y_smooth,linewidth=5)
    plt.xlabel('Index')
    plt.ylabel('y1')
    plt.title(title_list[i-1])
plt.show()


import pandas as pd
import matplotlib.pyplot as plt

# 读取csv文件
df = pd.read_csv('foo11680809843.0389023.csv')
title_list = ['reward','wait_time','sum_brake','sum_lenth']
# 重置索引为整数序列
df = df.reset_index()

plt.figure(figsize=(30,10))
for i in range(1,5):
    plt.subplot(1,4,i)
    plt.plot(df.index, df.iloc[:, i])
    window_size = 11
    y_smooth = np.convolve(df.iloc[:, i], np.ones(window_size)/window_size, mode='valid')
    x_smooth = df.index[window_size//2:-(window_size//2)]
    plt.plot(x_smooth,y_smooth,linewidth=5)
    plt.xlabel('Index')
    plt.ylabel('y1')
    plt.title(title_list[i-1])
plt.show()


import pandas as pd
import matplotlib.pyplot as plt

# 读取csv文件
df = pd.read_csv('foo11680813721.4636292_200.csv')
title_list = ['reward','wait_time','sum_brake','sum_lenth']
# 重置索引为整数序列
df = df.reset_index()

plt.figure(figsize=(30,10))
for i in range(1,5):
    plt.subplot(1,4,i)
    plt.plot(df.index, df.iloc[:, i])
    window_size = 23
    y_smooth = np.convolve(df.iloc[:, i], np.ones(window_size)/window_size, mode='valid')
    x_smooth = df.index[window_size//2:-(window_size//2)]
    plt.plot(x_smooth,y_smooth,linewidth=8)
    plt.xlabel('Index')
    plt.ylabel('y1')
    plt.title(title_list[i-1])
plt.show()


import pandas as pd
import matplotlib.pyplot as plt

# 读取csv文件
df = pd.read_csv('foo11680816413.0391593.csv')
title_list = ['reward','wait_time','sum_brake','sum_lenth']
# 重置索引为整数序列
df = df.reset_index()

plt.figure(figsize=(30,10))
for i in range(1,5):
    plt.subplot(1,4,i)
    plt.plot(df.index, df.iloc[:, i])
    window_size = 23
    y_smooth = np.convolve(df.iloc[:, i], np.ones(window_size)/window_size, mode='valid')
    x_smooth = df.index[window_size//2:-(window_size//2)]
    plt.plot(x_smooth,y_smooth,linewidth=8)
    plt.xlabel('Index')
    plt.ylabel('y1')
    plt.title(title_list[i-1])
plt.show()


import pandas as pd
import matplotlib.pyplot as plt

# 读取csv文件
df = pd.read_csv('foo11680831069.116448.csv')
title_list = ['reward','wait_time','sum_brake','sum_lenth']
# 重置索引为整数序列
df = df.reset_index()

plt.figure(figsize=(30,10))
for i in range(1,5):
    plt.subplot(1,4,i)
    plt.plot(df.index, df.iloc[:, i])
    window_size = 23
    y_smooth = np.convolve(df.iloc[:, i], np.ones(window_size)/window_size, mode='valid')
    x_smooth = df.index[window_size//2:-(window_size//2)]
    plt.plot(x_smooth,y_smooth,linewidth=8)
    plt.xlabel('Index')
    plt.ylabel('y1')
    plt.title(title_list[i-1])
plt.show()


import pandas as pd
import matplotlib.pyplot as plt

# 读取csv文件
df = pd.read_csv('foo11680849779.796997.csv')
title_list = ['reward','wait_time','sum_brake','sum_lenth']
# 重置索引为整数序列
df = df.reset_index()

plt.figure(figsize=(30,10))
for i in range(1,5):
    plt.subplot(1,4,i)
    plt.plot(df.index, df.iloc[:, i])
    window_size = 23
    y_smooth = np.convolve(df.iloc[:, i], np.ones(window_size)/window_size, mode='valid')
    x_smooth = df.index[window_size//2:-(window_size//2)]
    plt.plot(x_smooth,y_smooth,linewidth=8)
    plt.xlabel('Index')
    plt.ylabel('y1')
    plt.title(title_list[i-1])
plt.show()


import pandas as pd
import matplotlib.pyplot as plt

# 读取csv文件
df = pd.read_csv('foo11680950742.3970332.csv')
title_list = ['reward','wait_time','sum_brake','sum_lenth']
# 重置索引为整数序列
df = df.reset_index()

plt.figure(figsize=(30,10))
for i in range(1,5):
    plt.subplot(1,4,i)
    plt.plot(df.index, df.iloc[:, i])
    window_size = 23
    y_smooth = np.convolve(df.iloc[:, i], np.ones(window_size)/window_size, mode='valid')
    x_smooth = df.index[window_size//2:-(window_size//2)]
    plt.plot(x_smooth,y_smooth,linewidth=8)
    plt.xlabel('Index')
    plt.ylabel('y1')
    plt.title(title_list[i-1])
plt.show()


# 调整右转概率
import pandas as pd
import matplotlib.pyplot as plt

# 读取csv文件
df = pd.read_csv('foo11680955050.4001536.csv')
title_list = ['reward','wait_time','sum_brake','sum_lenth']
# 重置索引为整数序列
df = df.reset_index()

plt.figure(figsize=(30,10))
for i in range(1,5):
    plt.subplot(1,4,i)
    plt.plot(df.index, df.iloc[:, i])
    window_size = 23
    y_smooth = np.convolve(df.iloc[:, i], np.ones(window_size)/window_size, mode='valid')
    x_smooth = df.index[window_size//2:-(window_size//2)]
    plt.plot(x_smooth,y_smooth,linewidth=8)
    plt.xlabel('Index')
    plt.ylabel('y1')
    plt.title(title_list[i-1])
plt.show()


# 设置黄灯为定值
import pandas as pd
import matplotlib.pyplot as plt

# 读取csv文件
df = pd.read_csv('foo11680966665.2868462.csv')
title_list = ['reward','wait_time','sum_brake','sum_lenth']
# 重置索引为整数序列
df = df.reset_index()

plt.figure(figsize=(30,10))
for i in range(1,5):
    plt.subplot(1,4,i)
    plt.plot(df.index, df.iloc[:, i])
    window_size = 23
    y_smooth = np.convolve(df.iloc[:, i], np.ones(window_size)/window_size, mode='valid')
    x_smooth = df.index[window_size//2:-(window_size//2)]
    plt.plot(x_smooth,y_smooth,linewidth=8)
    plt.xlabel('Index')
    plt.ylabel('y1')
    plt.title(title_list[i-1])
plt.show()


import pandas as pd
import matplotlib.pyplot as plt

# 读取csv文件
df = pd.read_csv('foo11680959135.2212205.csv')
title_list = ['reward','wait_time','sum_brake','sum_lenth']
# 重置索引为整数序列
df = df.reset_index()

plt.figure(figsize=(30,10))
for i in range(1,5):
    plt.subplot(1,4,i)
    plt.plot(df.index, df.iloc[:, i])
    window_size = 23
    y_smooth = np.convolve(df.iloc[:, i], np.ones(window_size)/window_size, mode='valid')
    x_smooth = df.index[window_size//2:-(window_size//2)]
    plt.plot(x_smooth,y_smooth,linewidth=8)
    plt.xlabel('Index')
    plt.ylabel('y1')
    plt.title(title_list[i-1])
plt.show()



import pandas as pd
import matplotlib.pyplot as plt

# 读取csv文件
df = pd.read_csv('foo11680970947.5905025.csv')
title_list = ['reward','wait_time','sum_brake','sum_lenth']
# 重置索引为整数序列
df = df.reset_index()

plt.figure(figsize=(30,10))
for i in range(1,5):
    plt.subplot(1,4,i)
    plt.plot(df.index, df.iloc[:, i])
    window_size = 23
    y_smooth = np.convolve(df.iloc[:, i], np.ones(window_size)/window_size, mode='valid')
    x_smooth = df.index[window_size//2:-(window_size//2)]
    plt.plot(x_smooth,y_smooth,linewidth=8)
    plt.xlabel('Index')
    plt.ylabel('y1')
    plt.title(title_list[i-1])
plt.show()


# 禁用回放
import numpy as np
import pandas as pd
import matplotlib.pyplot as plt

# 读取csv文件
df = pd.read_csv('foo11681144225.1597123.csv')
title_list = ['reward','wait_time','sum_brake','sum_lenth']
# 重置索引为整数序列
df = df.reset_index()

plt.figure(figsize=(30,10))
for i in range(1,5):
    plt.subplot(1,4,i)
    plt.plot(df.index, df.iloc[:, i])
    window_size = 23
    y_smooth = np.convolve(df.iloc[:, i], np.ones(window_size)/window_size, mode='valid')
    x_smooth = df.index[window_size//2:-(window_size//2)]
    plt.plot(x_smooth,y_smooth,linewidth=8)
    plt.xlabel('Index')
    plt.ylabel('y1')
    plt.title(title_list[i-1])
plt.show()


import numpy as np
import pandas as pd
import matplotlib.pyplot as plt

# 读取csv文件
df = pd.read_csv('foo11681144225.1597123.csv')
df1 = pd.read_csv('foo11680959135.2212205.csv')
title_list = ['reward','wait_time','sum_brake','sum_lenth']
# 重置索引为整数序列
df = df.reset_index()
df1 = df1.reset_index()
plt.figure(figsize=(30,10))
for i in range(1,5):
    plt.subplot(1,4,i)
    plt.plot(df.index, df.iloc[:, i])
    plt.plot(df1.index, df1.iloc[:, i])
    window_size = 23
    y_smooth = np.convolve(df.iloc[:, i], np.ones(window_size)/window_size, mode='valid')
    x_smooth = df.index[window_size//2:-(window_size//2)]
    plt.plot(x_smooth,y_smooth,linewidth=4)
    
    y_smooth1 = np.convolve(df1.iloc[:, i], np.ones(window_size)/window_size, mode='valid')
    x_smooth1 = df1.index[window_size//2:-(window_size//2)]
    plt.plot(x_smooth1,y_smooth1,linewidth=4)
    
    plt.xlabel('Index')
    plt.ylabel('y1')
    plt.title(title_list[i-1])
plt.show()



