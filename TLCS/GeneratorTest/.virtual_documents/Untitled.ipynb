import pandas as pd
import matplotlib.pyplot as plt

# 读取csv文件
df = pd.read_csv('foo11680805817.8544438_yellow1.csv')
title_list = ['reward','wait_time','sum_brake','sum_lenth']
# 重置索引为整数序列
df = df.reset_index()

plt.figure(figsize=(30,10))
for i in range(1,5):
    plt.subplot(1,4,i)
    plt.plot(df.index, df.iloc[:, i])
    window_size = 13
    y_smooth = np.convolve(df.iloc[:, i], np.ones(window_size)/window_size, mode='valid')
    x_smooth = df.index[window_size//2:-(window_size//2)]
    plt.plot(x_smooth,y_smooth,linewidth=5)
    plt.xlabel('Index')
    plt.ylabel('y1')
    plt.title(title_list[i-1])
plt.show()


import pandas as pd
import matplotlib.pyplot as plt

# 读取csv文件
df = pd.read_csv('foo11680807867.7411928yellow3.csv')
title_list = ['reward','wait_time','sum_brake','sum_lenth']
# 重置索引为整数序列
df = df.reset_index()

plt.figure(figsize=(30,10))
for i in range(1,5):
    plt.subplot(1,4,i)
    plt.plot(df.index, df.iloc[:, i])
    window_size = 13
    y_smooth = np.convolve(df.iloc[:, i], np.ones(window_size)/window_size, mode='valid')
    x_smooth = df.index[window_size//2:-(window_size//2)]
    plt.plot(x_smooth,y_smooth,linewidth=5)
    plt.xlabel('Index')
    plt.ylabel('y1')
    plt.title(title_list[i-1])
plt.show()


import pandas as pd
import matplotlib.pyplot as plt

# 读取csv文件
df = pd.read_csv('foo11680809843.0389023.csv')
title_list = ['reward','wait_time','sum_brake','sum_lenth']
# 重置索引为整数序列
df = df.reset_index()

plt.figure(figsize=(30,10))
for i in range(1,5):
    plt.subplot(1,4,i)
    plt.plot(df.index, df.iloc[:, i])
    window_size = 11
    y_smooth = np.convolve(df.iloc[:, i], np.ones(window_size)/window_size, mode='valid')
    x_smooth = df.index[window_size//2:-(window_size//2)]
    plt.plot(x_smooth,y_smooth,linewidth=5)
    plt.xlabel('Index')
    plt.ylabel('y1')
    plt.title(title_list[i-1])
plt.show()


import pandas as pd
import matplotlib.pyplot as plt

# 读取csv文件
df = pd.read_csv('foo11680813721.4636292_200.csv')
title_list = ['reward','wait_time','sum_brake','sum_lenth']
# 重置索引为整数序列
df = df.reset_index()

plt.figure(figsize=(30,10))
for i in range(1,5):
    plt.subplot(1,4,i)
    plt.plot(df.index, df.iloc[:, i])
    window_size = 23
    y_smooth = np.convolve(df.iloc[:, i], np.ones(window_size)/window_size, mode='valid')
    x_smooth = df.index[window_size//2:-(window_size//2)]
    plt.plot(x_smooth,y_smooth,linewidth=8)
    plt.xlabel('Index')
    plt.ylabel('y1')
    plt.title(title_list[i-1])
plt.show()


import pandas as pd
import matplotlib.pyplot as plt

# 读取csv文件
df = pd.read_csv('foo11680816413.0391593.csv')
title_list = ['reward','wait_time','sum_brake','sum_lenth']
# 重置索引为整数序列
df = df.reset_index()

plt.figure(figsize=(30,10))
for i in range(1,5):
    plt.subplot(1,4,i)
    plt.plot(df.index, df.iloc[:, i])
    window_size = 23
    y_smooth = np.convolve(df.iloc[:, i], np.ones(window_size)/window_size, mode='valid')
    x_smooth = df.index[window_size//2:-(window_size//2)]
    plt.plot(x_smooth,y_smooth,linewidth=8)
    plt.xlabel('Index')
    plt.ylabel('y1')
    plt.title(title_list[i-1])
plt.show()



